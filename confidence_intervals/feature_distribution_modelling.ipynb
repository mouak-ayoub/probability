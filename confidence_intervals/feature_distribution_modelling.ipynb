{
 "cells": [
  {
   "cell_type": "code",
   "id": "initial_id",
   "metadata": {
    "collapsed": true,
    "ExecuteTime": {
     "end_time": "2025-03-17T23:02:58.345790Z",
     "start_time": "2025-03-17T23:02:58.340659Z"
    }
   },
   "source": [
    "import pandas as pd\n",
    "from scipy.stats import norm\n",
    "\n",
    "import math\n",
    "import matplotlib.pyplot as plt\n"
   ],
   "outputs": [],
   "execution_count": 147
  },
  {
   "metadata": {},
   "cell_type": "markdown",
   "source": [
    "\n",
    "\n",
    " ### Preprocessing the data"
   ],
   "id": "3f2be92b38963cab"
  },
  {
   "metadata": {},
   "cell_type": "markdown",
   "source": "#### Data is taken from the kaggle competition https://www.kaggle.com/competitions/equity-post-HCT-survival-predictions/data",
   "id": "d20a9228936ad4e3"
  },
  {
   "metadata": {
    "ExecuteTime": {
     "end_time": "2025-03-17T23:02:58.368271Z",
     "start_time": "2025-03-17T23:02:58.345790Z"
    }
   },
   "cell_type": "code",
   "source": [
    "train_fraction=0.8\n",
    "seed=None\n",
    "confidence=0.95\n",
    "moment_order=6"
   ],
   "id": "1883f94b16c339e9",
   "outputs": [],
   "execution_count": 148
  },
  {
   "metadata": {
    "ExecuteTime": {
     "end_time": "2025-03-17T23:02:58.486678Z",
     "start_time": "2025-03-17T23:02:58.382831Z"
    }
   },
   "cell_type": "code",
   "source": [
    "# read train.csv and get just the id and psych_disturb columns and split them in test and train\n",
    "path='../data/equity-post-HCT-survival-predictions/train.csv'\n",
    "df= pd.read_csv(path, usecols=['ID', 'psych_disturb'])\n",
    "df.head()"
   ],
   "id": "207e01a04be56808",
   "outputs": [
    {
     "data": {
      "text/plain": [
       "   ID psych_disturb\n",
       "0   0            No\n",
       "1   1            No\n",
       "2   2            No\n",
       "3   3            No\n",
       "4   4            No"
      ],
      "text/html": [
       "<div>\n",
       "<style scoped>\n",
       "    .dataframe tbody tr th:only-of-type {\n",
       "        vertical-align: middle;\n",
       "    }\n",
       "\n",
       "    .dataframe tbody tr th {\n",
       "        vertical-align: top;\n",
       "    }\n",
       "\n",
       "    .dataframe thead th {\n",
       "        text-align: right;\n",
       "    }\n",
       "</style>\n",
       "<table border=\"1\" class=\"dataframe\">\n",
       "  <thead>\n",
       "    <tr style=\"text-align: right;\">\n",
       "      <th></th>\n",
       "      <th>ID</th>\n",
       "      <th>psych_disturb</th>\n",
       "    </tr>\n",
       "  </thead>\n",
       "  <tbody>\n",
       "    <tr>\n",
       "      <th>0</th>\n",
       "      <td>0</td>\n",
       "      <td>No</td>\n",
       "    </tr>\n",
       "    <tr>\n",
       "      <th>1</th>\n",
       "      <td>1</td>\n",
       "      <td>No</td>\n",
       "    </tr>\n",
       "    <tr>\n",
       "      <th>2</th>\n",
       "      <td>2</td>\n",
       "      <td>No</td>\n",
       "    </tr>\n",
       "    <tr>\n",
       "      <th>3</th>\n",
       "      <td>3</td>\n",
       "      <td>No</td>\n",
       "    </tr>\n",
       "    <tr>\n",
       "      <th>4</th>\n",
       "      <td>4</td>\n",
       "      <td>No</td>\n",
       "    </tr>\n",
       "  </tbody>\n",
       "</table>\n",
       "</div>"
      ]
     },
     "execution_count": 149,
     "metadata": {},
     "output_type": "execute_result"
    }
   ],
   "execution_count": 149
  },
  {
   "metadata": {
    "ExecuteTime": {
     "end_time": "2025-03-17T23:02:58.569084Z",
     "start_time": "2025-03-17T23:02:58.540101Z"
    }
   },
   "cell_type": "code",
   "source": [
    "df_filtered = df[df['psych_disturb'].str.upper().isin(['YES', 'NO'])]\n",
    "df_filtered['psych_disturb'] = df_filtered['psych_disturb'].str.upper().map({'YES': 1, 'NO': 0})\n",
    "train_df = df_filtered.sample(frac=train_fraction, random_state=seed)\n",
    "test_df = df_filtered.drop(train_df.index)\n",
    "df_filtered.head()"
   ],
   "id": "7647f4a234f949e4",
   "outputs": [
    {
     "name": "stderr",
     "output_type": "stream",
     "text": [
      "C:\\Users\\pc\\AppData\\Local\\Temp\\ipykernel_3108\\2540558827.py:2: SettingWithCopyWarning: \n",
      "A value is trying to be set on a copy of a slice from a DataFrame.\n",
      "Try using .loc[row_indexer,col_indexer] = value instead\n",
      "\n",
      "See the caveats in the documentation: https://pandas.pydata.org/pandas-docs/stable/user_guide/indexing.html#returning-a-view-versus-a-copy\n",
      "  df_filtered['psych_disturb'] = df_filtered['psych_disturb'].str.upper().map({'YES': 1, 'NO': 0})\n"
     ]
    },
    {
     "data": {
      "text/plain": [
       "   ID  psych_disturb\n",
       "0   0              0\n",
       "1   1              0\n",
       "2   2              0\n",
       "3   3              0\n",
       "4   4              0"
      ],
      "text/html": [
       "<div>\n",
       "<style scoped>\n",
       "    .dataframe tbody tr th:only-of-type {\n",
       "        vertical-align: middle;\n",
       "    }\n",
       "\n",
       "    .dataframe tbody tr th {\n",
       "        vertical-align: top;\n",
       "    }\n",
       "\n",
       "    .dataframe thead th {\n",
       "        text-align: right;\n",
       "    }\n",
       "</style>\n",
       "<table border=\"1\" class=\"dataframe\">\n",
       "  <thead>\n",
       "    <tr style=\"text-align: right;\">\n",
       "      <th></th>\n",
       "      <th>ID</th>\n",
       "      <th>psych_disturb</th>\n",
       "    </tr>\n",
       "  </thead>\n",
       "  <tbody>\n",
       "    <tr>\n",
       "      <th>0</th>\n",
       "      <td>0</td>\n",
       "      <td>0</td>\n",
       "    </tr>\n",
       "    <tr>\n",
       "      <th>1</th>\n",
       "      <td>1</td>\n",
       "      <td>0</td>\n",
       "    </tr>\n",
       "    <tr>\n",
       "      <th>2</th>\n",
       "      <td>2</td>\n",
       "      <td>0</td>\n",
       "    </tr>\n",
       "    <tr>\n",
       "      <th>3</th>\n",
       "      <td>3</td>\n",
       "      <td>0</td>\n",
       "    </tr>\n",
       "    <tr>\n",
       "      <th>4</th>\n",
       "      <td>4</td>\n",
       "      <td>0</td>\n",
       "    </tr>\n",
       "  </tbody>\n",
       "</table>\n",
       "</div>"
      ]
     },
     "execution_count": 150,
     "metadata": {},
     "output_type": "execute_result"
    }
   ],
   "execution_count": 150
  },
  {
   "metadata": {
    "ExecuteTime": {
     "end_time": "2025-03-17T23:02:59.039058Z",
     "start_time": "2025-03-17T23:02:58.674901Z"
    }
   },
   "cell_type": "code",
   "source": [
    "\n",
    "# Calculate counts of 0s and 1s\n",
    "df_counts = df_filtered['psych_disturb'].value_counts()\n",
    "train_df_counts = train_df['psych_disturb'].value_counts()\n",
    "p_df= df_counts[1] / (df_counts[0] + df_counts[1])\n",
    "p_train_df= train_df_counts[1] / (train_df_counts[0] + train_df_counts[1])\n",
    "\n",
    "# Create a figure with two subplots\n",
    "fig, (ax1, ax2) = plt.subplots(1, 2, figsize=(10, 4))\n",
    "color = 'skyblue'\n",
    "edgecolor = 'black'\n",
    "bin_width = 0.1\n",
    "bins = [0, 0.1, 0.9, 1]\n",
    "\n",
    "# Histogram for df\n",
    "ax1.hist(df_filtered['psych_disturb'], bins=bins, alpha=0.5, label=f'df (0: {df_counts[0]}, 1: {df_counts[1]}, p: {p_df:.5f})', color=color, edgecolor=edgecolor, width=bin_width, align='mid')\n",
    "ax1.set_xlabel('Psych Disturb')\n",
    "ax1.set_ylabel('Frequency')\n",
    "ax1.set_title('Histogram of Psych Disturb for df')\n",
    "ax1.legend(loc='upper right')\n",
    "\n",
    "# Histogram for train_df\n",
    "ax2.hist(train_df['psych_disturb'], bins=bins, alpha=0.5, label=f'train_df (0: {train_df_counts[0]}, 1: {train_df_counts[1]}, p: {p_train_df:.5f})', color=color, edgecolor=edgecolor, width=bin_width,align='mid')\n",
    "ax2.set_xlabel('Psych Disturb')\n",
    "ax2.set_ylabel('Frequency')\n",
    "ax2.set_title('Histogram of Psych Disturb for train_df')\n",
    "ax2.legend(loc='upper right')\n",
    "\n",
    "# Adjust layout to add space between subplots\n",
    "plt.tight_layout(pad=1.0)\n",
    "\n",
    "# Show plot\n",
    "plt.show()"
   ],
   "id": "b1dd51302a8b443c",
   "outputs": [
    {
     "data": {
      "text/plain": [
       "<Figure size 1000x400 with 2 Axes>"
      ],
      "image/png": "[encoded data removed]"
     },
     "metadata": {},
     "output_type": "display_data"
    }
   ],
   "execution_count": 151
  },
  {
   "metadata": {},
   "cell_type": "markdown",
   "source": "### Estimating the parameter of the bernoulli distribution of psych_disturb with confidence intervals",
   "id": "f9fbad5f39e7083a"
  },
  {
   "metadata": {
    "ExecuteTime": {
     "end_time": "2025-03-17T23:02:59.085470Z",
     "start_time": "2025-03-17T23:02:59.076647Z"
    }
   },
   "cell_type": "code",
   "source": [
    "p_estimate= train_df['psych_disturb'].mean()\n",
    "alpha= round(1 - confidence,2)\n",
    "z_score = norm.ppf(1 - (alpha / 2))\n"
   ],
   "id": "c2aa1b2e77997f51",
   "outputs": [],
   "execution_count": 152
  },
  {
   "metadata": {},
   "cell_type": "markdown",
   "source": [
    "\n",
    " Using the approximation that n is large enough to use the normal distribution (according to the central limit theorem)\n"
   ],
   "id": "f0fd6ad15764359f"
  },
  {
   "metadata": {
    "ExecuteTime": {
     "end_time": "2025-03-17T23:02:59.123024Z",
     "start_time": "2025-03-17T23:02:59.116132Z"
    }
   },
   "cell_type": "code",
   "source": [
    "lower_ci_clt= p_estimate - z_score / (2*math.sqrt(len(train_df)))\n",
    "upper_ci_clt= p_estimate + z_score / (2*math.sqrt(len(train_df)))\n",
    "print(f'Confidence interval for p is: [{lower_ci_clt:.5f}, {upper_ci_clt:.5f}]')"
   ],
   "id": "8f39f5f0c5ec564d",
   "outputs": [
    {
     "name": "stdout",
     "output_type": "stream",
     "text": [
      "Confidence interval for p is: [0.12838, 0.14181]\n"
     ]
    }
   ],
   "execution_count": 153
  },
  {
   "metadata": {},
   "cell_type": "markdown",
   "source": "Using Hoeffding's inequality",
   "id": "202bbf182e63d68f"
  },
  {
   "metadata": {
    "ExecuteTime": {
     "end_time": "2025-03-17T23:02:59.167361Z",
     "start_time": "2025-03-17T23:02:59.154286Z"
    }
   },
   "cell_type": "code",
   "source": [
    "lower_ci_hoefdding= p_estimate - math.sqrt(math.log(2/alpha)/(2*len(train_df)))\n",
    "upper_ci_hoefdding= p_estimate + math.sqrt(math.log(2/alpha)/(2*len(train_df)))\n",
    "print(f'Confidence interval for p is: [{lower_ci_hoefdding:.5f}, {upper_ci_hoefdding:.5f}]')\n"
   ],
   "id": "dd45e6b8eff39b74",
   "outputs": [
    {
     "name": "stdout",
     "output_type": "stream",
     "text": [
      "Confidence interval for p is: [0.12578, 0.14441]\n"
     ]
    }
   ],
   "execution_count": 154
  },
  {
   "metadata": {},
   "cell_type": "markdown",
   "source": [
    "Using Chebyshev's inequality\n",
    "$$\n",
    "\\text{Lower CI} = p_{\\text{estimate}} - \\frac{m}{\\left(2 \\times (1 - \\text{confidence})\\right)^{\\frac{1}{2}}} \\times \\frac{1}{\\sqrt{n}}\n",
    "$$\n",
    "\n",
    "$$\n",
    "\\text{Upper CI} = p_{\\text{estimate}} + \\frac{m}{\\left(2 \\times (1 - \\text{confidence})\\right)^{\\frac{1}{m}}} \\times \\frac{1}{\\sqrt{n}}\n",
    "$$\n"
   ],
   "id": "b97846ce0b2a11d9"
  },
  {
   "metadata": {
    "ExecuteTime": {
     "end_time": "2025-03-17T23:02:59.194246Z",
     "start_time": "2025-03-17T23:02:59.188779Z"
    }
   },
   "cell_type": "code",
   "source": [
    "lower_ci_chebyshev= p_estimate - 1/ (2*math.sqrt(len(train_df) * alpha))\n",
    "upper_ci_chebyshev= p_estimate + 1/ (2*math.sqrt(len(train_df) * alpha))"
   ],
   "id": "c2337a1c997233ae",
   "outputs": [],
   "execution_count": 155
  },
  {
   "metadata": {},
   "cell_type": "markdown",
   "source": [
    "Using Marcinkiewicz-Zygmund inequality with high-order moment\n",
    "\n",
    "\n",
    "\n",
    "$$\n",
    "\\text{Lower CI} = p_{\\text{estimate}} - \\frac{m}{\\left(2 \\times (1 - \\text{confidence})\\right)^{\\frac{1}{m}}} \\times \\frac{1}{\\sqrt{n}}\n",
    "$$\n",
    "\n",
    "$$\n",
    "\\text{Upper CI} = p_{\\text{estimate}} + \\frac{m}{\\left(2 \\times (1 - \\text{confidence})\\right)^{\\frac{1}{m}}} \\times \\frac{1}{\\sqrt{n}}\n",
    "$$\n",
    "\n",
    "\n",
    "### Legend:\n",
    "- $p_{\\text{estimate}}$: Estimated probability (the mean of samples in this case).\n",
    "- $m$: Moment order.\n",
    "- $\\text{confidence}$: Confidence level.\n",
    "- $n$: Number of samples in the training dataset (`train_df`)."
   ],
   "id": "a42767867f09c7bc"
  },
  {
   "metadata": {},
   "cell_type": "markdown",
   "source": "",
   "id": "6d03328d353e5c41"
  },
  {
   "metadata": {
    "ExecuteTime": {
     "end_time": "2025-03-17T23:02:59.237396Z",
     "start_time": "2025-03-17T23:02:59.231807Z"
    }
   },
   "cell_type": "code",
   "source": [
    "import math\n",
    "\n",
    "# Calculate the square root of 10\n",
    "root_10 = math.sqrt(10)\n",
    "\n",
    "# Calculate the square root of the result\n",
    "root_of_root_10 = math.sqrt(root_10)\n",
    "\n",
    "print(f'The root of the root of 10 is: {root_of_root_10}')"
   ],
   "id": "93cfa901d7ad4fb9",
   "outputs": [
    {
     "name": "stdout",
     "output_type": "stream",
     "text": [
      "The root of the root of 10 is: 1.7782794100389228\n"
     ]
    }
   ],
   "execution_count": 156
  },
  {
   "metadata": {
    "ExecuteTime": {
     "end_time": "2025-03-17T23:02:59.274134Z",
     "start_time": "2025-03-17T23:02:59.259471Z"
    }
   },
   "cell_type": "code",
   "source": [
    "lower_ci_marcin_zyg= p_estimate - ( moment_order * (1/ (2 * alpha)**(1/moment_order)))/ math.sqrt(len(train_df))\n",
    "upper_ci_marcin_zyg= p_estimate + ( moment_order * (1/ (2 * alpha)**(1/moment_order)))/ math.sqrt(len(train_df))"
   ],
   "id": "b2e14e8066a5294b",
   "outputs": [],
   "execution_count": 157
  },
  {
   "metadata": {
    "ExecuteTime": {
     "end_time": "2025-03-17T23:02:59.319253Z",
     "start_time": "2025-03-17T23:02:59.312766Z"
    }
   },
   "cell_type": "code",
   "source": [
    "dict_ci = {'CLT': [lower_ci_clt, upper_ci_clt], 'Hoeffding': [lower_ci_hoefdding, upper_ci_hoefdding],\n",
    "           'Chebyshev': [lower_ci_chebyshev, upper_ci_chebyshev],\n",
    "           f'Marcinkiewicz-Zygmund (moment_order={moment_order})': [lower_ci_marcin_zyg, upper_ci_marcin_zyg]}\n",
    "sorted_dict_ci = dict(sorted(dict_ci.items(), key=lambda item: item[1][1] - item[1][0], reverse=True))"
   ],
   "id": "a585cb91bb6bc3c2",
   "outputs": [],
   "execution_count": 158
  },
  {
   "metadata": {
    "ExecuteTime": {
     "end_time": "2025-03-17T23:02:59.595561Z",
     "start_time": "2025-03-17T23:02:59.325694Z"
    }
   },
   "cell_type": "code",
   "source": [
    "# Create figure for horizontal confidence intervals\n",
    "fig, ax = plt.subplots(figsize=(12, 6))\n",
    "\n",
    "# Define y positions for different intervals\n",
    "# Loop over dictionary items to get the y positions\n",
    "y_positions = [i for i in range(len(sorted_dict_ci)+1)]\n",
    "labels = list(sorted_dict_ci.keys())\n",
    "# Add the point estimate label at the end\n",
    "labels.append('Point Estimate')\n",
    "# Generate colors for each interval dynamically\n",
    "colors = plt.cm.tab10(range(len(sorted_dict_ci)))\n",
    "\n",
    "\n",
    "# Plot horizontal lines\n",
    "# Point estimate\n",
    "ax.plot([p_estimate, p_estimate], [y_positions[len(y_positions)-1]-0.2, y_positions[len(y_positions)-1]+0.2],\n",
    "        linewidth=2, color='red',\n",
    "        label=f'Point estimate: {p_estimate:.5f}')\n",
    "\n",
    "# Loop over the dictionary items to plot the confidence intervals with larger intervals laster\n",
    "for i, (label, (lower_ci, upper_ci)) in enumerate(sorted_dict_ci.items()):\n",
    "    # Plot horizontal line for each confidence interval\n",
    "    ax.plot([lower_ci, upper_ci], [y_positions[i], y_positions[i]],\n",
    "            linewidth=2, color=colors[i],\n",
    "            label=f'{label} {int(confidence*100)}% CI: [{lower_ci:.5f}, {upper_ci:.5f}]')\n",
    "\n",
    "    ax.plot([lower_ci, upper_ci], [y_positions[i], y_positions[i]], 'o',color=colors[i], markersize=5)\n",
    "\n",
    "\n",
    "# Customize the plot\n",
    "ax.set_yticks(y_positions)\n",
    "ax.set_yticklabels(labels)\n",
    "ax.set_xlabel('Parameter Value')\n",
    "ax.set_title('Confidence Intervals for Psych Disturb Parameter')\n",
    "ax.grid(True, axis='x', linestyle='--', alpha=0.7)\n",
    "# put the legend outside the plot\n",
    "ax.legend(loc='upper left', bbox_to_anchor=(1, 1), fontsize='small')\n",
    "# Set x-axis limits with padding\n",
    "\n",
    "plt.tight_layout()\n",
    "plt.show()"
   ],
   "id": "8009b4b7cdeed7d8",
   "outputs": [
    {
     "data": {
      "text/plain": [
       "<Figure size 1200x600 with 1 Axes>"
      ],
      "image/png": "[encoded data removed]"
     },
     "metadata": {},
     "output_type": "display_data"
    }
   ],
   "execution_count": 159
  },
  {
   "metadata": {},
   "cell_type": "markdown",
   "source": "",
   "id": "5d85999c5e6319d8"
  }
 ],
 "metadata": {
  "kernelspec": {
   "display_name": "Python 3",
   "language": "python",
   "name": "python3"
  },
  "language_info": {
   "codemirror_mode": {
    "name": "ipython",
    "version": 2
   },
   "file_extension": ".py",
   "mimetype": "text/x-python",
   "name": "python",
   "nbconvert_exporter": "python",
   "pygments_lexer": "ipython2",
   "version": "2.7.6"
  }
 },
 "nbformat": 4,
 "nbformat_minor": 5
}
